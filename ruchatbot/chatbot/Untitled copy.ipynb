{
 "cells": [
  {
   "cell_type": "code",
   "execution_count": 1,
   "id": "e52ac9c1",
   "metadata": {},
   "outputs": [
    {
     "name": "stdout",
     "output_type": "stream",
     "text": [
      "Python 3.8.12\r\n"
     ]
    }
   ],
   "source": [
    "!python --version"
   ]
  },
  {
   "cell_type": "code",
   "execution_count": 2,
   "id": "db6f2eb3",
   "metadata": {},
   "outputs": [],
   "source": [
    "import requests\n",
    "import json\n",
    "\n",
    "import pickle\n",
    "import bert\n",
    "import numpy as np"
   ]
  },
  {
   "cell_type": "code",
   "execution_count": 3,
   "id": "dd18cf0a",
   "metadata": {},
   "outputs": [
    {
     "data": {
      "text/plain": [
       "<module 'bert' from '/Users/berkanyikilmaz/anaconda3/lib/python3.11/site-packages/bert/__init__.py'>"
      ]
     },
     "execution_count": 3,
     "metadata": {},
     "output_type": "execute_result"
    }
   ],
   "source": [
    "bert"
   ]
  },
  {
   "cell_type": "code",
   "execution_count": 4,
   "id": "6c78a379",
   "metadata": {},
   "outputs": [],
   "source": [
    "# loading\n",
    "with open('tokenizer.pickle', 'rb') as handle:\n",
    "    tokenizer = pickle.load(handle)"
   ]
  },
  {
   "cell_type": "code",
   "execution_count": 25,
   "id": "8ff86388",
   "metadata": {},
   "outputs": [],
   "source": [
    "sentences = [\n",
    "  \"Does the orientation course include campus tour information?\"\n",
    "]\n",
    "\n",
    "pred_tokens = map(tokenizer.tokenize, sentences)\n",
    "pred_tokens = map(lambda tok: [\"[CLS]\"] + tok + [\"[SEP]\"], pred_tokens)\n",
    "pred_token_ids = list(map(tokenizer.convert_tokens_to_ids, pred_tokens))\n",
    "pred_token_ids = map(\n",
    "  lambda tids: tids +[0]*(23-len(tids)),\n",
    "  pred_token_ids\n",
    ")\n",
    "pred_token_ids = list(pred_token_ids)"
   ]
  },
  {
   "cell_type": "code",
   "execution_count": 26,
   "id": "c8fc8135",
   "metadata": {},
   "outputs": [
    {
     "data": {
      "text/plain": [
       "[[101,\n",
       "  2515,\n",
       "  1996,\n",
       "  10296,\n",
       "  2607,\n",
       "  2421,\n",
       "  3721,\n",
       "  2778,\n",
       "  2592,\n",
       "  1029,\n",
       "  102,\n",
       "  0,\n",
       "  0,\n",
       "  0,\n",
       "  0,\n",
       "  0,\n",
       "  0,\n",
       "  0,\n",
       "  0,\n",
       "  0,\n",
       "  0,\n",
       "  0,\n",
       "  0]]"
      ]
     },
     "execution_count": 26,
     "metadata": {},
     "output_type": "execute_result"
    }
   ],
   "source": [
    "pred_token_ids"
   ]
  },
  {
   "cell_type": "code",
   "execution_count": 27,
   "id": "47ef7080",
   "metadata": {},
   "outputs": [],
   "source": [
    "data = {\"instances\": pred_token_ids}"
   ]
  },
  {
   "cell_type": "code",
   "execution_count": 28,
   "id": "d90e56ee",
   "metadata": {},
   "outputs": [
    {
     "data": {
      "text/plain": [
       "{'instances': [[101,\n",
       "   2515,\n",
       "   1996,\n",
       "   10296,\n",
       "   2607,\n",
       "   2421,\n",
       "   3721,\n",
       "   2778,\n",
       "   2592,\n",
       "   1029,\n",
       "   102,\n",
       "   0,\n",
       "   0,\n",
       "   0,\n",
       "   0,\n",
       "   0,\n",
       "   0,\n",
       "   0,\n",
       "   0,\n",
       "   0,\n",
       "   0,\n",
       "   0,\n",
       "   0]]}"
      ]
     },
     "execution_count": 28,
     "metadata": {},
     "output_type": "execute_result"
    }
   ],
   "source": [
    "data"
   ]
  },
  {
   "cell_type": "code",
   "execution_count": 29,
   "id": "093d344a",
   "metadata": {},
   "outputs": [
    {
     "data": {
      "text/plain": [
       "'{\"instances\": [[101, 2515, 1996, 10296, 2607, 2421, 3721, 2778, 2592, 1029, 102, 0, 0, 0, 0, 0, 0, 0, 0, 0, 0, 0, 0]]}'"
      ]
     },
     "execution_count": 29,
     "metadata": {},
     "output_type": "execute_result"
    }
   ],
   "source": [
    "data_json = json.dumps(data)\n",
    "data_json"
   ]
  },
  {
   "cell_type": "code",
   "execution_count": 30,
   "id": "ecdce51a",
   "metadata": {},
   "outputs": [],
   "source": [
    "url = \"http://localhost:8501/v1/models/saved_model/versions/1:predict\"\n",
    "headers = {\"content-type\":\"application/json\"}\n",
    "\n",
    "json_response = requests.post(url, data = data_json, headers = headers)"
   ]
  },
  {
   "cell_type": "code",
   "execution_count": 31,
   "id": "2cfc265c",
   "metadata": {},
   "outputs": [
    {
     "name": "stdout",
     "output_type": "stream",
     "text": [
      "{'predictions': [[0.0303428844, 0.0302523728, 0.931545913, 0.00651195133, 0.00134689698]]}\n"
     ]
    }
   ],
   "source": [
    "print(json_response.json())"
   ]
  },
  {
   "cell_type": "code",
   "execution_count": null,
   "id": "8afd3e7c",
   "metadata": {},
   "outputs": [],
   "source": []
  }
 ],
 "metadata": {
  "kernelspec": {
   "display_name": "Python 3 (ipykernel)",
   "language": "python",
   "name": "python3"
  },
  "language_info": {
   "codemirror_mode": {
    "name": "ipython",
    "version": 3
   },
   "file_extension": ".py",
   "mimetype": "text/x-python",
   "name": "python",
   "nbconvert_exporter": "python",
   "pygments_lexer": "ipython3",
   "version": "3.11.5"
  }
 },
 "nbformat": 4,
 "nbformat_minor": 5
}
